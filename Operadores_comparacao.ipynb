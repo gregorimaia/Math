{
  "nbformat": 4,
  "nbformat_minor": 0,
  "metadata": {
    "colab": {
      "name": "Operadores_comparacao.ipynb",
      "provenance": [],
      "authorship_tag": "ABX9TyMQi6bKamtulJDxN/dwSOwq",
      "include_colab_link": true
    },
    "kernelspec": {
      "name": "python3",
      "display_name": "Python 3"
    },
    "language_info": {
      "name": "python"
    }
  },
  "cells": [
    {
      "cell_type": "markdown",
      "metadata": {
        "id": "view-in-github",
        "colab_type": "text"
      },
      "source": [
        "<a href=\"https://colab.research.google.com/github/gregorimaia/Math/blob/main/Operadores_comparacao.ipynb\" target=\"_parent\"><img src=\"https://colab.research.google.com/assets/colab-badge.svg\" alt=\"Open In Colab\"/></a>"
      ]
    },
    {
      "cell_type": "markdown",
      "metadata": {
        "id": "UqLnW_85J-3h"
      },
      "source": [
        "Utiliza-se == para comparar se dois valores são iguais."
      ]
    },
    {
      "cell_type": "code",
      "metadata": {
        "id": "3B8MseFvFrP4"
      },
      "source": [
        "a = int(input('Digite o valor de a: '))\n",
        "b = int(input('Digite o valor de b: '))\n",
        "R = a==b\n",
        "print(R)"
      ],
      "execution_count": null,
      "outputs": []
    },
    {
      "cell_type": "code",
      "metadata": {
        "id": "uJXwFCvAKgiN"
      },
      "source": [
        "Utiliza=se != para comparar se dois valores são diferentes."
      ],
      "execution_count": null,
      "outputs": []
    },
    {
      "cell_type": "code",
      "metadata": {
        "id": "gFIZ51CaKzWG"
      },
      "source": [
        "a = int(input('Digite o valor de a: '))\n",
        "b = int(input('Digite o valor de b: '))\n",
        "R = a!=b\n",
        "print(R)"
      ],
      "execution_count": null,
      "outputs": []
    },
    {
      "cell_type": "markdown",
      "metadata": {
        "id": "TPXmYLO9K6H2"
      },
      "source": [
        "Utiliza-se > ou < para comparar se o valor é maior ou menor."
      ]
    },
    {
      "cell_type": "code",
      "metadata": {
        "id": "Fz-XoajZLODt"
      },
      "source": [
        "a = int(input('Digite o valor de a: '))\n",
        "b = int(input('Digite o valor de b: '))\n",
        "R = a>b\n",
        "print(R)"
      ],
      "execution_count": null,
      "outputs": []
    },
    {
      "cell_type": "markdown",
      "metadata": {
        "id": "DK-z2SNtLm7B"
      },
      "source": [
        "Utiliza-se >= ou <= para comparar se o valor é maior ou menor."
      ]
    },
    {
      "cell_type": "code",
      "metadata": {
        "id": "2Q1VK50sLtPd"
      },
      "source": [
        "a = int(input('Digite o valor de a: '))\n",
        "b = int(input('Digite o valor de b: '))\n",
        "R = a>=b\n",
        "print(R)"
      ],
      "execution_count": null,
      "outputs": []
    }
  ]
}