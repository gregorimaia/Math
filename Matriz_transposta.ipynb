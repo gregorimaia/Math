{
  "nbformat": 4,
  "nbformat_minor": 0,
  "metadata": {
    "colab": {
      "name": "Matriz_transposta.ipynb",
      "provenance": [],
      "authorship_tag": "ABX9TyOoxNL9CHQhbcuKtJnLs6TW",
      "include_colab_link": true
    },
    "kernelspec": {
      "name": "python3",
      "display_name": "Python 3"
    },
    "language_info": {
      "name": "python"
    }
  },
  "cells": [
    {
      "cell_type": "markdown",
      "metadata": {
        "id": "view-in-github",
        "colab_type": "text"
      },
      "source": [
        "<a href=\"https://colab.research.google.com/github/gregorimaia/Math/blob/main/Matriz_transposta.ipynb\" target=\"_parent\"><img src=\"https://colab.research.google.com/assets/colab-badge.svg\" alt=\"Open In Colab\"/></a>"
      ]
    },
    {
      "cell_type": "code",
      "metadata": {
        "id": "jdaPpAWWnWM-"
      },
      "source": [
        "import numpy as np\n",
        "a11 = int(input('a11= '))\n",
        "a12 = int(input('a12= '))\n",
        "a13 = int(input('a13= '))\n",
        "a21 = int(input('a21= '))\n",
        "a22 = int(input('a22= '))\n",
        "a23 = int(input('a23= '))\n",
        "a31 = int(input('a31= '))\n",
        "a32 = int(input('a32= '))\n",
        "a33 = int(input('a33= '))\n",
        "MA = np.array([[a11, a12, a13], [a21, a22, a23], [a31, a32, a33]])\n",
        "print(MA)"
      ],
      "execution_count": null,
      "outputs": []
    },
    {
      "cell_type": "code",
      "metadata": {
        "id": "bOVkaJSEq9al"
      },
      "source": [
        "b11 = int(input('b11= '))\n",
        "b12 = int(input('b12= '))\n",
        "b13 = int(input('b13= '))\n",
        "b21 = int(input('b21= '))\n",
        "b22 = int(input('b22= '))\n",
        "b23 = int(input('b23= '))\n",
        "b31 = int(input('b31= '))\n",
        "b32 = int(input('b32= '))\n",
        "b33 = int(input('b33= '))\n",
        "MB = np.array([[b11, b12, b13], [b21, b22, b23], [b31, b32, b33]])\n",
        "print(MB)"
      ],
      "execution_count": null,
      "outputs": []
    },
    {
      "cell_type": "markdown",
      "metadata": {
        "id": "2HBy9rOJo_AX"
      },
      "source": [
        "#Matriz transposta"
      ]
    },
    {
      "cell_type": "code",
      "metadata": {
        "colab": {
          "base_uri": "https://localhost:8080/"
        },
        "id": "vKNf2NCupCUe",
        "outputId": "c597cb7b-4694-42d8-e862-9b47efa7d5ea"
      },
      "source": [
        "# Isere MA.T ou MB.T para achar a transposta de cada uma das matrizes.\n",
        "MA.T"
      ],
      "execution_count": 13,
      "outputs": [
        {
          "output_type": "execute_result",
          "data": {
            "text/plain": [
              "array([[1, 4, 7],\n",
              "       [2, 5, 8],\n",
              "       [3, 6, 9]])"
            ]
          },
          "metadata": {},
          "execution_count": 13
        }
      ]
    }
  ]
}