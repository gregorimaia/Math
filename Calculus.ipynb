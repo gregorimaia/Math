{
  "nbformat": 4,
  "nbformat_minor": 0,
  "metadata": {
    "colab": {
      "provenance": [],
      "authorship_tag": "ABX9TyP+Z+sPeLm2QEET94Ke/wEe",
      "include_colab_link": true
    },
    "kernelspec": {
      "name": "python3",
      "display_name": "Python 3"
    },
    "language_info": {
      "name": "python"
    }
  },
  "cells": [
    {
      "cell_type": "markdown",
      "metadata": {
        "id": "view-in-github",
        "colab_type": "text"
      },
      "source": [
        "<a href=\"https://colab.research.google.com/github/gregorimaia/Math/blob/main/Calculus.ipynb\" target=\"_parent\"><img src=\"https://colab.research.google.com/assets/colab-badge.svg\" alt=\"Open In Colab\"/></a>"
      ]
    },
    {
      "cell_type": "markdown",
      "source": [
        "#**Limit of a function**"
      ],
      "metadata": {
        "id": "fD2nNBa-y8R-"
      }
    },
    {
      "cell_type": "code",
      "execution_count": 10,
      "metadata": {
        "id": "T-LMN0B6y6aP",
        "colab": {
          "base_uri": "https://localhost:8080/",
          "height": 457
        },
        "outputId": "7aff8734-41f2-43f3-9d39-34ba04cad7a6"
      },
      "outputs": [
        {
          "output_type": "display_data",
          "data": {
            "text/plain": [
              "<IPython.core.display.Math object>"
            ],
            "text/latex": "$\\displaystyle \\lim_{x\\to 1.5} x^{3} = 3.375$"
          },
          "metadata": {}
        },
        {
          "output_type": "display_data",
          "data": {
            "text/plain": [
              "<Figure size 640x480 with 1 Axes>"
            ],
            "image/png": "[encoded data removed]"
          },
          "metadata": {}
        }
      ],
      "source": [
        "import sympy as sym\n",
        "import matplotlib.pyplot as plt\n",
        "import numpy as np\n",
        "from IPython.display import display,Math\n",
        "\n",
        "x = sym.symbols('x')\n",
        "\n",
        "fx = x**3\n",
        "\n",
        "lim_pnt = 1.5\n",
        "lim = sym.limit(fx,x,lim_pnt)\n",
        "\n",
        "display(Math('\\\\lim_{x\\\\to %g} %s = %g' %(lim_pnt,sym.latex(fx),lim)))\n",
        "\n",
        "fxx = sym.lambdify(x,fx)\n",
        "xx = np.linspace(-5,5,200)\n",
        "\n",
        "plt.plot(xx,fxx(xx))\n",
        "plt.plot(lim_pnt,'ro')\n",
        "plt.show()"
      ]
    },
    {
      "cell_type": "markdown",
      "source": [
        "#**Derivatives of polynomials**"
      ],
      "metadata": {
        "id": "g73DuZ4wfMSH"
      }
    },
    {
      "cell_type": "code",
      "source": [
        "import sympy as sym\n",
        "import matplotlib.pyplot as plt\n",
        "import numpy as np\n",
        "from IPython.display import display,Math\n",
        "\n",
        "x = sym.symbols('x')\n",
        "\n",
        "fx = sym.cos(x)\n",
        "sym.diff(fx)"
      ],
      "metadata": {
        "colab": {
          "base_uri": "https://localhost:8080/",
          "height": 39
        },
        "id": "kTgovArhfQlJ",
        "outputId": "d8a6d4dd-8d43-44fc-e5dd-e8a659fd1ab5"
      },
      "execution_count": 12,
      "outputs": [
        {
          "output_type": "execute_result",
          "data": {
            "text/plain": [
              "-sin(x)"
            ],
            "text/latex": "$\\displaystyle - \\sin{\\left(x \\right)}$"
          },
          "metadata": {},
          "execution_count": 12
        }
      ]
    }
  ]
}