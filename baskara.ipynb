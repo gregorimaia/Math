{
  "nbformat": 4,
  "nbformat_minor": 0,
  "metadata": {
    "colab": {
      "name": "baskara.ipynb",
      "provenance": [],
      "authorship_tag": "ABX9TyNWTNdJdw6425PHP6eoAjgj",
      "include_colab_link": true
    },
    "kernelspec": {
      "name": "python3",
      "display_name": "Python 3"
    },
    "language_info": {
      "name": "python"
    }
  },
  "cells": [
    {
      "cell_type": "markdown",
      "metadata": {
        "id": "view-in-github",
        "colab_type": "text"
      },
      "source": [
        "<a href=\"https://colab.research.google.com/github/gregorimaia/Math/blob/main/baskara.ipynb\" target=\"_parent\"><img src=\"https://colab.research.google.com/assets/colab-badge.svg\" alt=\"Open In Colab\"/></a>"
      ]
    },
    {
      "cell_type": "code",
      "metadata": {
        "id": "8QTZisU448EO"
      },
      "source": [
        "a = float(input('Valor de a:'))\n",
        "b = float(input('Valor b:'))\n",
        "c = float(input('Valor c:'))\n",
        "delta = (b**2) - 4*a*c\n",
        "\n",
        "print(\"\\n******************\\n\")\n",
        "\n",
        "if a == 0:\n",
        "  print(\"O valor de a deve ser diferente de zero!\")\n",
        "# elif delta < 0:\n",
        "  # print(\"Sem raízes reais!\")\n",
        "else:\n",
        "  x1 = (-b + delta**(1/2))/(2*a)\n",
        "  x2 = (-b - delta**(1/2))/(2*a)\n",
        "\n",
        "  print(\"x1: {}, x2: {}\".format(x1, x2))"
      ],
      "execution_count": null,
      "outputs": []
    }
  ]
}