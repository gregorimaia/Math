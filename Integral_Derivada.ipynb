{
  "nbformat": 4,
  "nbformat_minor": 0,
  "metadata": {
    "colab": {
      "name": "Integral_Derivada.ipynb",
      "provenance": [],
      "authorship_tag": "ABX9TyPnFWpHcReHQY3iyMFz6MAU",
      "include_colab_link": true
    },
    "kernelspec": {
      "name": "python3",
      "display_name": "Python 3"
    },
    "language_info": {
      "name": "python"
    }
  },
  "cells": [
    {
      "cell_type": "markdown",
      "metadata": {
        "id": "view-in-github",
        "colab_type": "text"
      },
      "source": [
        "<a href=\"https://colab.research.google.com/github/gregorimaia/Math/blob/main/Integral_Derivada.ipynb\" target=\"_parent\"><img src=\"https://colab.research.google.com/assets/colab-badge.svg\" alt=\"Open In Colab\"/></a>"
      ]
    },
    {
      "cell_type": "markdown",
      "metadata": {
        "id": "5c3IcnyoE8xN"
      },
      "source": [
        "Rode o programa e insira a equação!"
      ]
    },
    {
      "cell_type": "code",
      "metadata": {
        "id": "AoL3Wv15BNq1"
      },
      "source": [
        "from sympy import *\n",
        "x, y, z = symbols('x y z ')\n",
        "init_printing(use_unicode=True)"
      ],
      "execution_count": 17,
      "outputs": []
    },
    {
      "cell_type": "markdown",
      "metadata": {
        "id": "IDY4aRRTCD6F"
      },
      "source": [
        "#Integral"
      ]
    },
    {
      "cell_type": "code",
      "metadata": {
        "colab": {
          "base_uri": "https://localhost:8080/",
          "height": 71
        },
        "id": "n0DKqIbIEjFv",
        "outputId": "c163bba2-43e4-48db-9374-4708ff3d02da"
      },
      "source": [
        "f = input('Isira a função a ser integrada:')\n",
        "integrate(f)"
      ],
      "execution_count": 19,
      "outputs": [
        {
          "name": "stdout",
          "output_type": "stream",
          "text": [
            "Isira a função a ser integrada:x\n"
          ]
        },
        {
          "output_type": "execute_result",
          "data": {
            "image/png": "[encoded data removed]",
            "text/latex": "$\\displaystyle \\frac{x^{2}}{2}$",
            "text/plain": [
              " 2\n",
              "x \n",
              "──\n",
              "2 "
            ]
          },
          "metadata": {},
          "execution_count": 19
        }
      ]
    },
    {
      "cell_type": "markdown",
      "metadata": {
        "id": "WI0c4IH6DP01"
      },
      "source": [
        "#Derivada"
      ]
    },
    {
      "cell_type": "code",
      "metadata": {
        "colab": {
          "base_uri": "https://localhost:8080/",
          "height": 54
        },
        "id": "IAk2pOwWDTIj",
        "outputId": "b4903f86-5af2-492d-f2d2-d657073491c4"
      },
      "source": [
        "f = input('Insira a função a ser derivada:')\n",
        "diff(f)"
      ],
      "execution_count": 20,
      "outputs": [
        {
          "name": "stdout",
          "output_type": "stream",
          "text": [
            "Insira a função a ser derivada:x\n"
          ]
        },
        {
          "output_type": "execute_result",
          "data": {
            "image/png": "[encoded data removed]",
            "text/latex": "$\\displaystyle 1$",
            "text/plain": [
              "1"
            ]
          },
          "metadata": {},
          "execution_count": 20
        }
      ]
    }
  ]
}