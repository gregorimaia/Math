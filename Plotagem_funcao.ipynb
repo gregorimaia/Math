{
  "nbformat": 4,
  "nbformat_minor": 0,
  "metadata": {
    "colab": {
      "name": "Plotagem_funcao.ipynb",
      "provenance": [],
      "authorship_tag": "ABX9TyPLQElWl+7aQPIOeWpTuEws",
      "include_colab_link": true
    },
    "kernelspec": {
      "name": "python3",
      "display_name": "Python 3"
    },
    "language_info": {
      "name": "python"
    }
  },
  "cells": [
    {
      "cell_type": "markdown",
      "metadata": {
        "id": "view-in-github",
        "colab_type": "text"
      },
      "source": [
        "<a href=\"https://colab.research.google.com/github/gregorimaia/Math/blob/main/Plotagem_funcao.ipynb\" target=\"_parent\"><img src=\"https://colab.research.google.com/assets/colab-badge.svg\" alt=\"Open In Colab\"/></a>"
      ]
    },
    {
      "cell_type": "code",
      "execution_count": 1,
      "metadata": {
        "id": "QyWIqW4Y6-zs"
      },
      "outputs": [],
      "source": [
        "from sympy import *\n",
        "from sympy.plotting import *\n"
      ]
    }
  ]
}