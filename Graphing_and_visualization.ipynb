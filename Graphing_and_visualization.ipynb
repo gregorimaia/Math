{
  "nbformat": 4,
  "nbformat_minor": 0,
  "metadata": {
    "colab": {
      "provenance": [],
      "authorship_tag": "ABX9TyP9Zv8NxPCqPGCH8Bq/YCHC",
      "include_colab_link": true
    },
    "kernelspec": {
      "name": "python3",
      "display_name": "Python 3"
    },
    "language_info": {
      "name": "python"
    }
  },
  "cells": [
    {
      "cell_type": "markdown",
      "metadata": {
        "id": "view-in-github",
        "colab_type": "text"
      },
      "source": [
        "<a href=\"https://colab.research.google.com/github/gregorimaia/Math/blob/main/Graphing_and_visualization.ipynb\" target=\"_parent\"><img src=\"https://colab.research.google.com/assets/colab-badge.svg\" alt=\"Open In Colab\"/></a>"
      ]
    },
    {
      "cell_type": "markdown",
      "source": [
        "#Plotting coordinates on a plane"
      ],
      "metadata": {
        "id": "lIQsRemrYVes"
      }
    },
    {
      "cell_type": "code",
      "execution_count": null,
      "metadata": {
        "id": "a-lXeqpRXvuN"
      },
      "outputs": [],
      "source": [
        "import matplotlib.pyplot as plt"
      ]
    },
    {
      "cell_type": "code",
      "source": [
        "x = 3\n",
        "y = 5\n",
        "plt.plot(x,y,'ro') #ro = circulo vermelho, gs = quadrado verde, kp = pentágono preto\n",
        "plt.axis('square') #deixar o gráfico quadrado\n",
        "plt.axis([-6,6,-6,6]) #limite dos eixos\n",
        "plt.grid() #linhas\n",
        "plt.show()"
      ],
      "metadata": {
        "id": "Vek1yUWMY-qF"
      },
      "execution_count": null,
      "outputs": []
    },
    {
      "cell_type": "code",
      "source": [],
      "metadata": {
        "id": "9TiqvCpMa_j8"
      },
      "execution_count": null,
      "outputs": []
    },
    {
      "cell_type": "code",
      "source": [
        "x = [-4, -2, 3, 6, 4, 8]\n",
        "y = [0, 4, 3, 6, 7, 8]\n",
        "\n",
        "for i in range(0,len(x)): #plotar ao longo de x\n",
        "  plt.plot(x[i],y[i],'o',label='point %s' %(i+1)) #i+1 para a legenda começar de 1 e não de 0\n",
        "\n",
        "plt.axis('square')\n",
        "plt.grid()\n",
        "plt.legend() #apresentar a legenda\n",
        "\n",
        "plt.show()"
      ],
      "metadata": {
        "id": "62QWOFNMcEf5"
      },
      "execution_count": null,
      "outputs": []
    },
    {
      "cell_type": "code",
      "source": [
        "#extracting information\n",
        "\n",
        "plt.plot(4,2,'r+')\n",
        "\n",
        "axis = plt.gca() #gca = get current axis\n",
        "ylim = axis.get_ylim() #pegando a informação do gráfico\n",
        "print(ylim)\n",
        "\n",
        "axis.set_ylim([ylim[0],5.6]) #alterando a informação\n",
        "\n",
        "plt.show()"
      ],
      "metadata": {
        "id": "Hn4MJgScd21W"
      },
      "execution_count": null,
      "outputs": []
    },
    {
      "cell_type": "code",
      "source": [
        "#plotting a function\n",
        "import matplotlib.pyplot as plt\n",
        "import sympy as sym\n",
        "\n",
        "x = sym.symbols('x')\n",
        "y = x**2 - 3*x\n",
        "\n",
        "for i in range(-11,12):\n",
        "    plt.plot(i,y.subs(x,i),'o')\n",
        "\n",
        "plt.xlabel('x')\n",
        "plt.ylabel('f(x) = %s' %y)\n",
        "plt.show()"
      ],
      "metadata": {
        "id": "6Me4wHIUhy0V"
      },
      "execution_count": null,
      "outputs": []
    },
    {
      "cell_type": "markdown",
      "source": [
        "#Graphing **lines**"
      ],
      "metadata": {
        "id": "KlPj7BCWi7Bu"
      }
    },
    {
      "cell_type": "code",
      "source": [
        "import matplotlib.pyplot as plt\n",
        "\n",
        "p1 = [-3,-1]\n",
        "p2 = [4,4]\n",
        "\n",
        "plt.plot([p1[0],p2[0]] , [p1[1],p2[1]] , color=[1,0,0] , linewidth=4) #color=[red,green,blue]\n",
        "\n",
        "plt.axis([-5,5,-5,5])\n",
        "plt.grid()\n",
        "plt.show()\n"
      ],
      "metadata": {
        "id": "bFAvSF3ii9NU"
      },
      "execution_count": null,
      "outputs": []
    },
    {
      "cell_type": "code",
      "source": [
        "import matplotlib.pyplot as plt\n",
        "\n",
        "x = 3\n",
        "y = 5\n",
        "\n",
        "plt.plot(x,y,'ro')\n",
        "plt.plot([0,x],[0,y], 'r')\n",
        "\n",
        "plt.axis([-6,6,-6,6])\n",
        "plt.grid()\n",
        "\n",
        "plt.plot([-6,6],[0,0], 'k')\n",
        "plt.plot([0,0],[-6,6], 'k')\n",
        "\n",
        "plt.show()\n"
      ],
      "metadata": {
        "id": "wxYJzgxdm41W"
      },
      "execution_count": null,
      "outputs": []
    },
    {
      "cell_type": "markdown",
      "source": [
        "#Excercising"
      ],
      "metadata": {
        "id": "nzjo67pDsN0W"
      }
    },
    {
      "cell_type": "code",
      "source": [
        "import matplotlib.pyplot as plt\n",
        "\n",
        "x = range(-20,21)\n",
        "\n",
        "for i in x:\n",
        "    plt.plot([0,i],[0,abs(i)**(1/2)])\n",
        "plt.show()\n"
      ],
      "metadata": {
        "id": "Gvak2rKlsSIb"
      },
      "execution_count": null,
      "outputs": []
    },
    {
      "cell_type": "code",
      "source": [
        "import matplotlib.pyplot as plt\n",
        "\n",
        "plt.plot([0,2],[2,2],'r')\n",
        "plt.plot([0,2],[0,0],'k')\n",
        "plt.plot([0,0],[0,2],'g')\n",
        "plt.plot([2,2],[0,2],'m')\n",
        "\n",
        "plt.axis('square')\n",
        "plt.axis([-3,5,-3,5]) #limites do gráfico apresentado\n",
        "plt.title('A colorful square!')\n",
        "\n",
        "plt.show()"
      ],
      "metadata": {
        "id": "2XgQMoSRtd2b"
      },
      "execution_count": null,
      "outputs": []
    },
    {
      "cell_type": "markdown",
      "source": [
        "#Linear equations in slope-intercept form"
      ],
      "metadata": {
        "id": "vTADM0VVvKd8"
      }
    },
    {
      "cell_type": "code",
      "source": [
        "import matplotlib.pyplot as plt\n",
        "import numpy as np\n",
        "\n",
        "# y = mx + b\n",
        "\n",
        "x = [-5,5]\n",
        "m=2\n",
        "b=1\n",
        "\n",
        "#y = [0,0]\n",
        "#for i in range(0,len(x)):\n",
        "#    y[i] = m*x[i] + b\n",
        "\n",
        "y = m*np.array(x) + b\n",
        "\n",
        "plt.plot(x,y,label='y=%sx+%s' %(m,b))\n",
        "\n",
        "plt.axis('square')\n",
        "plt.grid()\n",
        "plt.xlim(x)\n",
        "plt.ylim(x)\n",
        "\n",
        "axis = plt.gca()\n",
        "plt.plot(axis.get_xlim(),[0,0],'k--')\n",
        "plt.plot([0,0],axis.get_ylim(),'k--')\n",
        "\n",
        "plt.legend()\n",
        "\n",
        "plt.show()\n",
        "\n",
        "\n"
      ],
      "metadata": {
        "id": "NsttV9hWvWPU",
        "colab": {
          "base_uri": "https://localhost:8080/",
          "height": 430
        },
        "outputId": "9e198fe4-5878-4b45-f3a0-7e3f25e82a89"
      },
      "execution_count": 9,
      "outputs": [
        {
          "output_type": "display_data",
          "data": {
            "text/plain": [
              "<Figure size 640x480 with 1 Axes>"
            ],
            "image/png": "[encoded data removed]"
          },
          "metadata": {}
        }
      ]
    },
    {
      "cell_type": "markdown",
      "source": [
        "#**Exercise**"
      ],
      "metadata": {
        "id": "uJBJRm_eMMxu"
      }
    },
    {
      "cell_type": "code",
      "source": [
        "import matplotlib.pyplot as plt\n",
        "\n",
        "x = [-5,5]\n",
        "m = [.7,-1.25]\n",
        "b = [-2,.75]\n",
        "\n",
        "for i in range(0,len(m)):\n",
        "    y = m[i]*np.array(x) + b[i]\n",
        "    plt.plot(x,y,label='y = %sx + %s' %(m[i],b[i]))\n",
        "\n",
        "plt.axis('square')\n",
        "plt.grid()\n",
        "plt.xlim(x)\n",
        "plt.ylim(x)\n",
        "\n",
        "axis = plt.gca()\n",
        "plt.plot(axis.get_xlim(),[0,0],'k--')\n",
        "plt.plot([0,0],axis.get_ylim(),'k--')\n",
        "plt.legend()\n",
        "\n",
        "plt.show()"
      ],
      "metadata": {
        "colab": {
          "base_uri": "https://localhost:8080/",
          "height": 430
        },
        "id": "n0u0rq4ZMQ0e",
        "outputId": "89acfb63-bba6-4141-f711-abd85863b4ac"
      },
      "execution_count": 15,
      "outputs": [
        {
          "output_type": "display_data",
          "data": {
            "text/plain": [
              "<Figure size 640x480 with 1 Axes>"
            ],
            "image/png": "[encoded data removed]"
          },
          "metadata": {}
        }
      ]
    }
  ]
}