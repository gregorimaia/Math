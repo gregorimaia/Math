{
  "nbformat": 4,
  "nbformat_minor": 0,
  "metadata": {
    "colab": {
      "name": "fracoes_parciais.ipynb",
      "provenance": [],
      "authorship_tag": "ABX9TyOfXmEZIQlWZDAg3w3zy9pZ",
      "include_colab_link": true
    },
    "kernelspec": {
      "name": "python3",
      "display_name": "Python 3"
    },
    "language_info": {
      "name": "python"
    }
  },
  "cells": [
    {
      "cell_type": "markdown",
      "metadata": {
        "id": "view-in-github",
        "colab_type": "text"
      },
      "source": [
        "<a href=\"https://colab.research.google.com/github/gregorimaia/Math/blob/main/fracoes_parciais.ipynb\" target=\"_parent\"><img src=\"https://colab.research.google.com/assets/colab-badge.svg\" alt=\"Open In Colab\"/></a>"
      ]
    },
    {
      "cell_type": "code",
      "metadata": {
        "id": "YpAu3PG_7L0R"
      },
      "source": [
        "from __future__ import division\n",
        "from sympy import *\n",
        "x, y, z, t = symbols('x y z t')\n",
        "k, m, n = symbols('k m n', integer=True)\n",
        "f, g, h = symbols('f g h', cls=Function)\n",
        "Numerador = numer(input(\"Numerador:\"))\n",
        "Denominador = numer(input(\"Denominador:\"))\n",
        "\n",
        "f = (Numerador)/(Denominador)\n",
        "apart(f)"
      ],
      "execution_count": null,
      "outputs": []
    }
  ]
}