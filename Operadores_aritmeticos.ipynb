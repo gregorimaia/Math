{
  "nbformat": 4,
  "nbformat_minor": 0,
  "metadata": {
    "colab": {
      "name": "Operadores_aritmeticos.ipynb",
      "provenance": [],
      "authorship_tag": "ABX9TyO/34wwN8D0bBXexLR6Jqi7",
      "include_colab_link": true
    },
    "kernelspec": {
      "name": "python3",
      "display_name": "Python 3"
    },
    "language_info": {
      "name": "python"
    }
  },
  "cells": [
    {
      "cell_type": "markdown",
      "metadata": {
        "id": "view-in-github",
        "colab_type": "text"
      },
      "source": [
        "<a href=\"https://colab.research.google.com/github/gregorimaia/Math/blob/main/Operadores_aritmeticos.ipynb\" target=\"_parent\"><img src=\"https://colab.research.google.com/assets/colab-badge.svg\" alt=\"Open In Colab\"/></a>"
      ]
    },
    {
      "cell_type": "markdown",
      "metadata": {
        "id": "G1JEPXQmDuvf"
      },
      "source": [
        "Divisão que apresenta apenas o resto."
      ]
    },
    {
      "cell_type": "code",
      "metadata": {
        "id": "W3FSCDhSFIEh"
      },
      "source": [
        "a = int(input('Numerador: '))\n",
        "b = int(input('Denominador: '))\n",
        "res = a % b\n",
        "print('O resto desta divisão é ',res)"
      ],
      "execution_count": null,
      "outputs": []
    },
    {
      "cell_type": "code",
      "metadata": {
        "id": "JvyQZyhKE18j"
      },
      "source": [
        "Divisão que resulta no inteiro."
      ],
      "execution_count": null,
      "outputs": []
    },
    {
      "cell_type": "code",
      "metadata": {
        "id": "4bEjixqCDbLP"
      },
      "source": [
        "a = int(input('Numerador: '))\n",
        "b = int(input('Denominador: '))\n",
        "res = a // b\n",
        "print('O resto desta divisão é ',res)"
      ],
      "execution_count": null,
      "outputs": []
    }
  ]
}