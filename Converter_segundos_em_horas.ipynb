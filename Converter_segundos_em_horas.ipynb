{
  "nbformat": 4,
  "nbformat_minor": 0,
  "metadata": {
    "colab": {
      "name": "Converter segundos em horas.ipynb",
      "provenance": [],
      "authorship_tag": "ABX9TyPm17VcxmeU+yoCESF7Mj4g",
      "include_colab_link": true
    },
    "kernelspec": {
      "name": "python3",
      "display_name": "Python 3"
    },
    "language_info": {
      "name": "python"
    }
  },
  "cells": [
    {
      "cell_type": "markdown",
      "metadata": {
        "id": "view-in-github",
        "colab_type": "text"
      },
      "source": [
        "<a href=\"https://colab.research.google.com/github/gregorimaia/Math/blob/main/Converter_segundos_em_horas.ipynb\" target=\"_parent\"><img src=\"https://colab.research.google.com/assets/colab-badge.svg\" alt=\"Open In Colab\"/></a>"
      ]
    },
    {
      "cell_type": "code",
      "execution_count": 27,
      "metadata": {
        "colab": {
          "base_uri": "https://localhost:8080/"
        },
        "id": "d4JlVuQA8FL_",
        "outputId": "09aba11f-c218-4880-dbee-41d7fdd53b3b"
      },
      "outputs": [
        {
          "output_type": "stream",
          "name": "stdout",
          "text": [
            "Quantos segundos deseja-se converter em horas?5400\n",
            "1 horas 30 minutos 0 segundos\n"
          ]
        }
      ],
      "source": [
        "sec = int(input('Quantos segundos deseja-se converter em horas?'))\n",
        "horas = sec // 3600\n",
        "sec_restante = sec % 3600\n",
        "minutos = sec_restante // 60\n",
        "segundos_restantes = sec_restante % 60\n",
        "print(horas,'horas',minutos,'minutos',segundos_restantes,'segundos')\n",
        "\n"
      ]
    }
  ]
}