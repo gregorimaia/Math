{
  "nbformat": 4,
  "nbformat_minor": 0,
  "metadata": {
    "colab": {
      "name": "Transformada_Laplace.ipynb",
      "provenance": [],
      "authorship_tag": "ABX9TyP8eKMz5bySDRxDMhRwMyw3",
      "include_colab_link": true
    },
    "kernelspec": {
      "name": "python3",
      "display_name": "Python 3"
    },
    "language_info": {
      "name": "python"
    }
  },
  "cells": [
    {
      "cell_type": "markdown",
      "metadata": {
        "id": "view-in-github",
        "colab_type": "text"
      },
      "source": [
        "<a href=\"https://colab.research.google.com/github/gregorimaia/Math/blob/main/Transformada_Laplace.ipynb\" target=\"_parent\"><img src=\"https://colab.research.google.com/assets/colab-badge.svg\" alt=\"Open In Colab\"/></a>"
      ]
    },
    {
      "cell_type": "code",
      "metadata": {
        "id": "2sFQf7KZZ8D4"
      },
      "source": [
        "import math\n",
        "import sympy as sym\n",
        "\n",
        "t = sym.Symbol('t')\n",
        "s = sym.Symbol('s')\n"
      ],
      "execution_count": 9,
      "outputs": []
    },
    {
      "cell_type": "markdown",
      "metadata": {
        "id": "IDtLpZI6aJIR"
      },
      "source": [
        "## Fazer a Transformada da função $F_{(s)}$:\n"
      ]
    },
    {
      "cell_type": "code",
      "metadata": {
        "id": "D3Uvb7NdaWpk"
      },
      "source": [
        "F = input('Qual a função no domínio do tempo?')\n",
        "F = sym.laplace_transform(F,t,s)\n",
        "print('\\n F \\n')\n",
        "sym.pprint(F)\n"
      ],
      "execution_count": null,
      "outputs": []
    }
  ]
}