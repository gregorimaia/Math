{
  "nbformat": 4,
  "nbformat_minor": 0,
  "metadata": {
    "colab": {
      "name": "Complexos.ipynb",
      "provenance": [],
      "authorship_tag": "ABX9TyMAcAUjuQfqJM8bXzi5svuu",
      "include_colab_link": true
    },
    "kernelspec": {
      "name": "python3",
      "display_name": "Python 3"
    },
    "language_info": {
      "name": "python"
    }
  },
  "cells": [
    {
      "cell_type": "markdown",
      "metadata": {
        "id": "view-in-github",
        "colab_type": "text"
      },
      "source": [
        "<a href=\"https://colab.research.google.com/github/gregorimaia/Math/blob/main/Complexos.ipynb\" target=\"_parent\"><img src=\"https://colab.research.google.com/assets/colab-badge.svg\" alt=\"Open In Colab\"/></a>"
      ]
    },
    {
      "cell_type": "code",
      "metadata": {
        "id": "7gyzB-k93P_D"
      },
      "source": [
        "import numpy\n",
        "import math"
      ],
      "execution_count": null,
      "outputs": []
    },
    {
      "cell_type": "code",
      "metadata": {
        "id": "rq6UkfaZ2l9i"
      },
      "source": [
        "A = float(input('Insira o valor de A:'))\n",
        "B = float(input('Insira o valor de B:'))"
      ],
      "execution_count": null,
      "outputs": []
    },
    {
      "cell_type": "code",
      "metadata": {
        "id": "2ripIFs52WhC"
      },
      "source": [
        "NumComplex = complex(A,B)\n",
        "print(NumComplex)"
      ],
      "execution_count": null,
      "outputs": []
    },
    {
      "cell_type": "code",
      "metadata": {
        "id": "lXBQecN_spdl"
      },
      "source": [
        "a = complex(,) #Inserir os números, espaçados por vírgula, entre parêntesis.\n",
        "b = complex(,)"
      ],
      "execution_count": null,
      "outputs": []
    },
    {
      "cell_type": "markdown",
      "metadata": {
        "id": "ax7isNTVs_IQ"
      },
      "source": [
        "#Soma"
      ]
    },
    {
      "cell_type": "code",
      "metadata": {
        "id": "RxaAkg6NtBVJ"
      },
      "source": [
        "print(a+b)"
      ],
      "execution_count": null,
      "outputs": []
    },
    {
      "cell_type": "markdown",
      "metadata": {
        "id": "xvsqALVktLYJ"
      },
      "source": [
        "#Subtração"
      ]
    },
    {
      "cell_type": "code",
      "metadata": {
        "id": "TJcj9FzNtOcp"
      },
      "source": [
        "print(a-b)"
      ],
      "execution_count": null,
      "outputs": []
    },
    {
      "cell_type": "markdown",
      "metadata": {
        "id": "S80ytPJ7tRJI"
      },
      "source": [
        "#Multiplicação"
      ]
    },
    {
      "cell_type": "code",
      "metadata": {
        "id": "qw5lbDAotUJS"
      },
      "source": [
        "print(a*b)"
      ],
      "execution_count": null,
      "outputs": []
    },
    {
      "cell_type": "markdown",
      "metadata": {
        "id": "oskW1WmetW5g"
      },
      "source": [
        "#Divisão"
      ]
    },
    {
      "cell_type": "code",
      "metadata": {
        "id": "ddQoE5uKtZ9k"
      },
      "source": [
        "print(a/b)"
      ],
      "execution_count": null,
      "outputs": []
    },
    {
      "cell_type": "markdown",
      "metadata": {
        "id": "70AvCpHAtdFX"
      },
      "source": [
        "#Parte real e imaginária."
      ]
    },
    {
      "cell_type": "code",
      "metadata": {
        "id": "Wj0Yvcl5tl_C"
      },
      "source": [
        "print('A parte real deste número complexo é ',a.real)\n",
        "print('A parte imaginária deste número complexo é ',a.imag)"
      ],
      "execution_count": null,
      "outputs": []
    },
    {
      "cell_type": "markdown",
      "metadata": {
        "id": "LfVUXw1uulVt"
      },
      "source": [
        "#Conjugado"
      ]
    },
    {
      "cell_type": "code",
      "metadata": {
        "id": "rVOOWaxWunZq"
      },
      "source": [
        "print('O conjugado deste número complexo é ', a.conjugate())"
      ],
      "execution_count": null,
      "outputs": []
    }
  ]
}