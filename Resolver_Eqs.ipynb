{
  "nbformat": 4,
  "nbformat_minor": 0,
  "metadata": {
    "colab": {
      "name": "Resolver_Eqs.ipynb",
      "provenance": [],
      "authorship_tag": "ABX9TyN6J5xfJoKhkom7kq6kKMPY",
      "include_colab_link": true
    },
    "kernelspec": {
      "name": "python3",
      "display_name": "Python 3"
    },
    "language_info": {
      "name": "python"
    }
  },
  "cells": [
    {
      "cell_type": "markdown",
      "metadata": {
        "id": "view-in-github",
        "colab_type": "text"
      },
      "source": [
        "<a href=\"https://colab.research.google.com/github/gregorimaia/Math/blob/main/Resolver_Eqs.ipynb\" target=\"_parent\"><img src=\"https://colab.research.google.com/assets/colab-badge.svg\" alt=\"Open In Colab\"/></a>"
      ]
    },
    {
      "cell_type": "markdown",
      "source": [
        "#Código para resolver uma equação."
      ],
      "metadata": {
        "id": "Sg1UUYo-l56Y"
      }
    },
    {
      "cell_type": "code",
      "metadata": {
        "id": "DM-aooHQaV9x",
        "colab": {
          "base_uri": "https://localhost:8080/",
          "height": 58
        },
        "outputId": "16d96835-e731-40e7-f290-e41081cb82be"
      },
      "source": [
        "from sympy import *\n",
        "init_printing(pretty_print=true)    #Para imprimir a função corretamente estruturada.\n",
        "x = Symbol('x')                     #Variável\n",
        "y = Function('y')                   #Função\n",
        "y(x)\n",
        "Eq(320*ln((1+x)/(0.05+x))+450*ln((1+x)/(0.07+x)),945.26)                         #Entre os parêntesis insere a equação (Expressão, igual)\n"
      ],
      "execution_count": 8,
      "outputs": [
        {
          "output_type": "execute_result",
          "data": {
            "image/png": "[encoded data removed]",
            "text/latex": "$\\displaystyle 320 \\log{\\left(\\frac{x + 1}{x + 0.05} \\right)} + 450 \\log{\\left(\\frac{x + 1}{x + 0.07} \\right)} = 945.26$",
            "text/plain": [
              "       ⎛ x + 1  ⎞          ⎛ x + 1  ⎞         \n",
              "320⋅log⎜────────⎟ + 450⋅log⎜────────⎟ = 945.26\n",
              "       ⎝x + 0.05⎠          ⎝x + 0.07⎠         "
            ]
          },
          "metadata": {},
          "execution_count": 8
        }
      ]
    }
  ]
}