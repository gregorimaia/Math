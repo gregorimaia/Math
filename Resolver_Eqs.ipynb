{
  "nbformat": 4,
  "nbformat_minor": 0,
  "metadata": {
    "colab": {
      "name": "Resolver_Eqs.ipynb",
      "provenance": [],
      "authorship_tag": "ABX9TyPhiaLWyAJgy3wh5UOdjD/i",
      "include_colab_link": true
    },
    "kernelspec": {
      "name": "python3",
      "display_name": "Python 3"
    },
    "language_info": {
      "name": "python"
    }
  },
  "cells": [
    {
      "cell_type": "markdown",
      "metadata": {
        "id": "view-in-github",
        "colab_type": "text"
      },
      "source": [
        "<a href=\"https://colab.research.google.com/github/gregorimaia/Math/blob/main/Resolver_Eqs.ipynb\" target=\"_parent\"><img src=\"https://colab.research.google.com/assets/colab-badge.svg\" alt=\"Open In Colab\"/></a>"
      ]
    },
    {
      "cell_type": "markdown",
      "source": [
        "#Código para resolver uma equação."
      ],
      "metadata": {
        "id": "Sg1UUYo-l56Y"
      }
    },
    {
      "cell_type": "code",
      "metadata": {
        "id": "DM-aooHQaV9x"
      },
      "source": [
        "from sympy import *\n",
        "import math\n",
        "init_printing(pretty_print=true)    #Para imprimir a função corretamente estruturada.\n",
        "x = Symbol('x')                     #Variável\n",
        "y = Function('y')                   #Função\n",
        "y(x)\n",
        "eq1 = Eq(320*ln((1+x)/(0.05+x))+450*ln((1+x)/(0.07+x)),945.26)    #Entre os parêntesis insere a equação (Expressão, igual)\n",
        "#solve(eq1,x)                                                     #Resolve a equação 1 na variável x.\n",
        "eq1"
      ],
      "execution_count": null,
      "outputs": []
    },
    {
      "cell_type": "code",
      "source": [
        "Isp1 = Symbol('Isp1')\n",
        "Isp2 = Symbol('Isp2')\n",
        "g = Symbol('g')\n",
        "Deltav = Symbol('Deltav')\n",
        "eq1 = Eq(Isp1*g*ln((1+x)/(0.05+x))+Isp2*g*ln((1+x)/(0.07+x)),Deltav)\n",
        "eq1\n"
      ],
      "metadata": {
        "id": "KBPxBu908DGB"
      },
      "execution_count": null,
      "outputs": []
    },
    {
      "cell_type": "markdown",
      "source": [
        "\n",
        "##Equação diferencial."
      ],
      "metadata": {
        "id": "1L42Lgce1FsA"
      }
    },
    {
      "cell_type": "code",
      "source": [
        "eq2 = Eq(y(x).diff(x)+y(x),3)\n",
        "dsolve(eq2,y(x))                #Para resolver equação diferencial é dsolve."
      ],
      "metadata": {
        "id": "YA2Y4rsO1FdS"
      },
      "execution_count": null,
      "outputs": []
    }
  ]
}