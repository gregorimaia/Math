{
  "nbformat": 4,
  "nbformat_minor": 0,
  "metadata": {
    "colab": {
      "name": "Transformada_Laplace_Inversa.ipynb",
      "provenance": [],
      "authorship_tag": "ABX9TyN9sWyYs7UnWnAmnKaBnplm",
      "include_colab_link": true
    },
    "kernelspec": {
      "name": "python3",
      "display_name": "Python 3"
    },
    "language_info": {
      "name": "python"
    }
  },
  "cells": [
    {
      "cell_type": "markdown",
      "metadata": {
        "id": "view-in-github",
        "colab_type": "text"
      },
      "source": [
        "<a href=\"https://colab.research.google.com/github/gregorimaia/Math/blob/main/Transformada_Laplace_Inversa.ipynb\" target=\"_parent\"><img src=\"https://colab.research.google.com/assets/colab-badge.svg\" alt=\"Open In Colab\"/></a>"
      ]
    },
    {
      "cell_type": "code",
      "metadata": {
        "id": "M4OgtxQVc6cK"
      },
      "source": [
        "import math\n",
        "import sympy as sp\n",
        "sp.init_printing()\n",
        "\n",
        "s = sp.Symbol('s')\n",
        "t = sp.Symbol('t')\n",
        "F = sp.Symbol('F')\n"
      ],
      "execution_count": 92,
      "outputs": []
    },
    {
      "cell_type": "markdown",
      "metadata": {
        "id": "XOfaC0GqDF-A"
      },
      "source": [
        "## Fazer a transformada inversa da função $F_{(s)}$:"
      ]
    },
    {
      "cell_type": "code",
      "metadata": {
        "id": "GHFxdiLmC-9L"
      },
      "source": [
        "F = input('Qual a função no domínio da frequência?')\n",
        "sp.inverse_laplace_transform(F, s, t) # Escrever a equação em 'função'."
      ],
      "execution_count": null,
      "outputs": []
    },
    {
      "cell_type": "code",
      "metadata": {
        "id": "i-CEq-3xFhjD"
      },
      "source": [
        "sp.simplify(f)"
      ],
      "execution_count": null,
      "outputs": []
    }
  ]
}