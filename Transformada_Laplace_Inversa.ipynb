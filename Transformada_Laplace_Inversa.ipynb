{
  "nbformat": 4,
  "nbformat_minor": 0,
  "metadata": {
    "colab": {
      "name": "Transformada_Laplace_Inversa.ipynb",
      "provenance": [],
      "authorship_tag": "ABX9TyPDuR4Tuvmgws7rpj9PscgB",
      "include_colab_link": true
    },
    "kernelspec": {
      "name": "python3",
      "display_name": "Python 3"
    },
    "language_info": {
      "name": "python"
    }
  },
  "cells": [
    {
      "cell_type": "markdown",
      "metadata": {
        "id": "view-in-github",
        "colab_type": "text"
      },
      "source": [
        "<a href=\"https://colab.research.google.com/github/gregorimaia/Math/blob/main/Transformada_Laplace_Inversa.ipynb\" target=\"_parent\"><img src=\"https://colab.research.google.com/assets/colab-badge.svg\" alt=\"Open In Colab\"/></a>"
      ]
    },
    {
      "cell_type": "code",
      "metadata": {
        "id": "M4OgtxQVc6cK"
      },
      "source": [
        "import math\n",
        "import sympy as sp\n",
        "sp.init_printing()\n",
        "\n",
        "s = sp.Symbol('s')\n",
        "t = sp.Symbol('t')\n",
        "F = sp.Symbol('F')\n"
      ],
      "execution_count": 2,
      "outputs": []
    },
    {
      "cell_type": "markdown",
      "metadata": {
        "id": "XOfaC0GqDF-A"
      },
      "source": [
        "## Fazer a transformada inversa da função $F_{(s)}$:"
      ]
    },
    {
      "cell_type": "code",
      "metadata": {
        "id": "GHFxdiLmC-9L",
        "colab": {
          "base_uri": "https://localhost:8080/",
          "height": 55
        },
        "outputId": "ccc54905-c849-4cad-8148-58d7d0d0900e"
      },
      "source": [
        "F = input('Qual a função no domínio da frequência?')\n",
        "sp.inverse_laplace_transform(F, s, t) # Escrever a equação em 'função'."
      ],
      "execution_count": 3,
      "outputs": [
        {
          "name": "stdout",
          "output_type": "stream",
          "text": [
            "Qual a função no domínio da frequência?1/s**2\n"
          ]
        },
        {
          "output_type": "execute_result",
          "data": {
            "image/png": "[encoded data removed]",
            "text/latex": "$\\displaystyle t \\theta\\left(t\\right)$",
            "text/plain": [
              "t⋅θ(t)"
            ]
          },
          "metadata": {},
          "execution_count": 3
        }
      ]
    }
  ]
}