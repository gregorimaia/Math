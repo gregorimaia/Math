{
  "nbformat": 4,
  "nbformat_minor": 0,
  "metadata": {
    "colab": {
      "provenance": [],
      "authorship_tag": "ABX9TyMdjgnD/X7bLfr+pnjkbOT6",
      "include_colab_link": true
    },
    "kernelspec": {
      "name": "python3",
      "display_name": "Python 3"
    },
    "language_info": {
      "name": "python"
    }
  },
  "cells": [
    {
      "cell_type": "markdown",
      "metadata": {
        "id": "view-in-github",
        "colab_type": "text"
      },
      "source": [
        "<a href=\"https://colab.research.google.com/github/gregorimaia/Math/blob/main/Math.ipynb\" target=\"_parent\"><img src=\"https://colab.research.google.com/assets/colab-badge.svg\" alt=\"Open In Colab\"/></a>"
      ]
    },
    {
      "cell_type": "markdown",
      "source": [
        "#Loop FOR"
      ],
      "metadata": {
        "id": "uIPO5gJv3YKJ"
      }
    },
    {
      "cell_type": "code",
      "execution_count": null,
      "metadata": {
        "colab": {
          "base_uri": "https://localhost:8080/"
        },
        "id": "074jAvo-yRbn",
        "outputId": "b3635ca7-faf1-4d3b-e052-089d2884b9aa"
      },
      "outputs": [
        {
          "output_type": "stream",
          "name": "stdout",
          "text": [
            "3\n",
            "9\n",
            "27\n",
            "27\n",
            "81\n"
          ]
        }
      ],
      "source": [
        "for x in [1, 2, 3, 3, 4]:\n",
        "  e = 3**x\n",
        "  print(e)"
      ]
    },
    {
      "cell_type": "code",
      "source": [
        "for x in range(1,4):\n",
        "  e = 3**x\n",
        "  print(e)"
      ],
      "metadata": {
        "colab": {
          "base_uri": "https://localhost:8080/"
        },
        "id": "Zjoe_5enEOFE",
        "outputId": "d55985a9-5ff8-4d79-87ba-4a8b7a78888d"
      },
      "execution_count": null,
      "outputs": [
        {
          "output_type": "stream",
          "name": "stdout",
          "text": [
            "3\n",
            "9\n",
            "27\n"
          ]
        }
      ]
    },
    {
      "cell_type": "code",
      "source": [
        "for x in range(0,10):\n",
        "  N = 2\n",
        "  R = N**x\n",
        "  print(\"%g to the power of %g is %g\" %(N,x,R))"
      ],
      "metadata": {
        "colab": {
          "base_uri": "https://localhost:8080/"
        },
        "id": "ZFrw61EZGC5R",
        "outputId": "c54e7774-e60c-47db-922f-3b48004f8c73"
      },
      "execution_count": null,
      "outputs": [
        {
          "output_type": "stream",
          "name": "stdout",
          "text": [
            "2 to the power of 0 is 1\n",
            "2 to the power of 1 is 2\n",
            "2 to the power of 2 is 4\n",
            "2 to the power of 3 is 8\n",
            "2 to the power of 4 is 16\n",
            "2 to the power of 5 is 32\n",
            "2 to the power of 6 is 64\n",
            "2 to the power of 7 is 128\n",
            "2 to the power of 8 is 256\n",
            "2 to the power of 9 is 512\n"
          ]
        }
      ]
    },
    {
      "cell_type": "markdown",
      "source": [
        "#Boolean with IF statements\n",
        "\n",
        "##True = 1\n",
        "##False = 0"
      ],
      "metadata": {
        "id": "PyKfly7v6bxU"
      }
    },
    {
      "cell_type": "code",
      "source": [
        "x = \n",
        "8*x - 2 <= -3*x +42\n"
      ],
      "metadata": {
        "colab": {
          "base_uri": "https://localhost:8080/"
        },
        "id": "b6XZw_Cw6Q-8",
        "outputId": "25e639a8-30da-4f08-c14a-a955eaf1262b"
      },
      "execution_count": null,
      "outputs": [
        {
          "output_type": "execute_result",
          "data": {
            "text/plain": [
              "False"
            ]
          },
          "metadata": {},
          "execution_count": 8
        }
      ]
    },
    {
      "cell_type": "markdown",
      "source": [
        "#Using If and Logical Operators"
      ],
      "metadata": {
        "id": "3ewiU1IThYy3"
      }
    },
    {
      "cell_type": "code",
      "source": [
        "A = -40\n",
        "B = 20\n",
        "\n",
        "if A > B:\n",
        "  print('%g is greater than %g' %(A, B))\n",
        "elif A < B:\n",
        "  print('%g is smaller than %g' %(A, B))\n",
        "else:\n",
        "  print('%g is equal to %g' %(A,B))"
      ],
      "metadata": {
        "id": "pASrfgpY8hTc",
        "colab": {
          "base_uri": "https://localhost:8080/"
        },
        "outputId": "b2cb6488-ca61-42a4-cb1b-84afb1c0efb4"
      },
      "execution_count": null,
      "outputs": [
        {
          "output_type": "stream",
          "name": "stdout",
          "text": [
            "-40 is smaller than 20\n"
          ]
        }
      ]
    },
    {
      "cell_type": "code",
      "source": [
        "from IPython.display import display,Math\n",
        "\n",
        "for i in range(0,4):\n",
        "  for j in range(0,5):\n",
        "    if i>0 and j>0:\n",
        "      display(Math('%g^{-%g} = %g' %(i, j, i**-j)))"
      ],
      "metadata": {
        "colab": {
          "base_uri": "https://localhost:8080/",
          "height": 261
        },
        "id": "dIvYJ8ibjchW",
        "outputId": "7e3739d2-7437-4ee9-e7fa-dcaee23c3658"
      },
      "execution_count": null,
      "outputs": [
        {
          "output_type": "display_data",
          "data": {
            "text/plain": [
              "<IPython.core.display.Math object>"
            ],
            "text/latex": "$\\displaystyle 1^{-1} = 1$"
          },
          "metadata": {}
        },
        {
          "output_type": "display_data",
          "data": {
            "text/plain": [
              "<IPython.core.display.Math object>"
            ],
            "text/latex": "$\\displaystyle 1^{-2} = 1$"
          },
          "metadata": {}
        },
        {
          "output_type": "display_data",
          "data": {
            "text/plain": [
              "<IPython.core.display.Math object>"
            ],
            "text/latex": "$\\displaystyle 1^{-3} = 1$"
          },
          "metadata": {}
        },
        {
          "output_type": "display_data",
          "data": {
            "text/plain": [
              "<IPython.core.display.Math object>"
            ],
            "text/latex": "$\\displaystyle 1^{-4} = 1$"
          },
          "metadata": {}
        },
        {
          "output_type": "display_data",
          "data": {
            "text/plain": [
              "<IPython.core.display.Math object>"
            ],
            "text/latex": "$\\displaystyle 2^{-1} = 0.5$"
          },
          "metadata": {}
        },
        {
          "output_type": "display_data",
          "data": {
            "text/plain": [
              "<IPython.core.display.Math object>"
            ],
            "text/latex": "$\\displaystyle 2^{-2} = 0.25$"
          },
          "metadata": {}
        },
        {
          "output_type": "display_data",
          "data": {
            "text/plain": [
              "<IPython.core.display.Math object>"
            ],
            "text/latex": "$\\displaystyle 2^{-3} = 0.125$"
          },
          "metadata": {}
        },
        {
          "output_type": "display_data",
          "data": {
            "text/plain": [
              "<IPython.core.display.Math object>"
            ],
            "text/latex": "$\\displaystyle 2^{-4} = 0.0625$"
          },
          "metadata": {}
        },
        {
          "output_type": "display_data",
          "data": {
            "text/plain": [
              "<IPython.core.display.Math object>"
            ],
            "text/latex": "$\\displaystyle 3^{-1} = 0.333333$"
          },
          "metadata": {}
        },
        {
          "output_type": "display_data",
          "data": {
            "text/plain": [
              "<IPython.core.display.Math object>"
            ],
            "text/latex": "$\\displaystyle 3^{-2} = 0.111111$"
          },
          "metadata": {}
        },
        {
          "output_type": "display_data",
          "data": {
            "text/plain": [
              "<IPython.core.display.Math object>"
            ],
            "text/latex": "$\\displaystyle 3^{-3} = 0.037037$"
          },
          "metadata": {}
        },
        {
          "output_type": "display_data",
          "data": {
            "text/plain": [
              "<IPython.core.display.Math object>"
            ],
            "text/latex": "$\\displaystyle 3^{-4} = 0.0123457$"
          },
          "metadata": {}
        }
      ]
    },
    {
      "cell_type": "markdown",
      "source": [
        "#Absolute Numbers"
      ],
      "metadata": {
        "id": "7luVaMMxo9Cb"
      }
    },
    {
      "cell_type": "code",
      "source": [
        "from IPython.display import display, Math\n",
        "\n",
        "x = -24\n",
        "display(Math('|%g| = %g' %(x,abs(x))))"
      ],
      "metadata": {
        "colab": {
          "base_uri": "https://localhost:8080/",
          "height": 37
        },
        "id": "oPw2vhh0nWq3",
        "outputId": "1ee41983-6d95-4b6e-b9fa-251adee69c90"
      },
      "execution_count": null,
      "outputs": [
        {
          "output_type": "display_data",
          "data": {
            "text/plain": [
              "<IPython.core.display.Math object>"
            ],
            "text/latex": "$\\displaystyle |-24| = 24$"
          },
          "metadata": {}
        }
      ]
    },
    {
      "cell_type": "code",
      "source": [
        "from IPython.display import display, Math\n",
        "a = range (-5, 6)\n",
        "for i in a:\n",
        " \n",
        "  firstchar = ' '\n",
        "  if i<0:\n",
        "    firstchar = ''\n",
        "\n",
        "  if i%2 == 0:\n",
        "    print('%s%g is an even number' %(firstchar,i))\n",
        "  else:\n",
        "    print('%s%g is an odd  number' %(firstchar,i))\n",
        "\n",
        "\n",
        "\n"
      ],
      "metadata": {
        "colab": {
          "base_uri": "https://localhost:8080/"
        },
        "id": "i3085R2eBP2_",
        "outputId": "c829963e-59f9-4d16-9f94-8ae86b99b1da"
      },
      "execution_count": null,
      "outputs": [
        {
          "output_type": "stream",
          "name": "stdout",
          "text": [
            "-5 is an odd  number\n",
            "-4 is an even number\n",
            "-3 is an odd  number\n",
            "-2 is an even number\n",
            "-1 is an odd  number\n",
            " 0 is an even number\n",
            " 1 is an odd  number\n",
            " 2 is an even number\n",
            " 3 is an odd  number\n",
            " 4 is an even number\n",
            " 5 is an odd  number\n"
          ]
        }
      ]
    },
    {
      "cell_type": "markdown",
      "source": [
        "##Interactive Math Functions"
      ],
      "metadata": {
        "id": "YCYQMIWzE1Jv"
      }
    },
    {
      "cell_type": "code",
      "source": [
        "import math\n",
        "def relatividadetemporal():\n",
        "\n",
        "  idade = int(input('Qual é a idade atual sua e de seu irmão gêmeo? '))\n",
        "  t = int(input('Por quanto tempo em anos você estará viajando? '))\n",
        "  v = float(input('A que velocidade em relação a velocidade da luz você estará viajando durante este tempo? ' ))\n",
        "  minha_idade =  t + idade\n",
        "  gamma = 1 / math.sqrt(1 - v**2)\n",
        "  t_dilatado = gamma * t\n",
        "  idade_irmao = t_dilatado + idade\n",
        "  viagem_tempo = (t_dilatado + idade) - minha_idade\n",
        "\n",
        "  print('''Viajando por %g anos a uma velocidade de %g%% da velocidade da luz, quando eu retornar terei %g anos\n",
        "   de idade e meu irmão gêmeo terá %g anos de idade, ou seja, terei viajado %g anos para o futuro.''' %(t,v,round(minha_idade,2),round(idade_irmao,2),round(viagem_tempo,2)))"
      ],
      "metadata": {
        "id": "hPc4z-VYEzT9"
      },
      "execution_count": null,
      "outputs": []
    },
    {
      "cell_type": "code",
      "source": [
        "relatividadetemporal()"
      ],
      "metadata": {
        "id": "NwPrDAM6S5ph",
        "colab": {
          "base_uri": "https://localhost:8080/",
          "height": 339
        },
        "outputId": "4845d19d-064c-49b0-ea5a-7d633b61503c"
      },
      "execution_count": null,
      "outputs": [
        {
          "name": "stdout",
          "output_type": "stream",
          "text": [
            "Qual é a idade atual sua e de seu irmão gêmeo? 33\n",
            "Por quanto tempo em anos você estará viajando? 20\n",
            "A que velocidade em relação a velocidade da luz você estará viajando durante este tempo? 0.9\n"
          ]
        },
        {
          "output_type": "error",
          "ename": "NameError",
          "evalue": "ignored",
          "traceback": [
            "\u001b[0;31m---------------------------------------------------------------------------\u001b[0m",
            "\u001b[0;31mNameError\u001b[0m                                 Traceback (most recent call last)",
            "\u001b[0;32m<ipython-input-2-f11bf31a049d>\u001b[0m in \u001b[0;36m<cell line: 1>\u001b[0;34m()\u001b[0m\n\u001b[0;32m----> 1\u001b[0;31m \u001b[0mrelatividadetemporal\u001b[0m\u001b[0;34m(\u001b[0m\u001b[0;34m)\u001b[0m\u001b[0;34m\u001b[0m\u001b[0;34m\u001b[0m\u001b[0m\n\u001b[0m",
            "\u001b[0;32m<ipython-input-1-007f0bd52092>\u001b[0m in \u001b[0;36mrelatividadetemporal\u001b[0;34m()\u001b[0m\n\u001b[1;32m      6\u001b[0m   \u001b[0mv\u001b[0m \u001b[0;34m=\u001b[0m \u001b[0mfloat\u001b[0m\u001b[0;34m(\u001b[0m\u001b[0minput\u001b[0m\u001b[0;34m(\u001b[0m\u001b[0;34m'A que velocidade em relação a velocidade da luz você estará viajando durante este tempo? '\u001b[0m \u001b[0;34m)\u001b[0m\u001b[0;34m)\u001b[0m\u001b[0;34m\u001b[0m\u001b[0;34m\u001b[0m\u001b[0m\n\u001b[1;32m      7\u001b[0m   \u001b[0mminha_idade\u001b[0m \u001b[0;34m=\u001b[0m  \u001b[0mt\u001b[0m \u001b[0;34m+\u001b[0m \u001b[0midade\u001b[0m\u001b[0;34m\u001b[0m\u001b[0;34m\u001b[0m\u001b[0m\n\u001b[0;32m----> 8\u001b[0;31m   \u001b[0mgamma\u001b[0m \u001b[0;34m=\u001b[0m \u001b[0;36m1\u001b[0m \u001b[0;34m/\u001b[0m \u001b[0mmath\u001b[0m\u001b[0;34m.\u001b[0m\u001b[0msqrt\u001b[0m\u001b[0;34m(\u001b[0m\u001b[0;36m1\u001b[0m \u001b[0;34m-\u001b[0m \u001b[0mv\u001b[0m\u001b[0;34m**\u001b[0m\u001b[0;36m2\u001b[0m\u001b[0;34m)\u001b[0m\u001b[0;34m\u001b[0m\u001b[0;34m\u001b[0m\u001b[0m\n\u001b[0m\u001b[1;32m      9\u001b[0m   \u001b[0mt_dilatado\u001b[0m \u001b[0;34m=\u001b[0m \u001b[0mgamma\u001b[0m \u001b[0;34m*\u001b[0m \u001b[0mt\u001b[0m\u001b[0;34m\u001b[0m\u001b[0;34m\u001b[0m\u001b[0m\n\u001b[1;32m     10\u001b[0m   \u001b[0midade_irmao\u001b[0m \u001b[0;34m=\u001b[0m \u001b[0mt_dilatado\u001b[0m \u001b[0;34m+\u001b[0m \u001b[0midade\u001b[0m\u001b[0;34m\u001b[0m\u001b[0;34m\u001b[0m\u001b[0m\n",
            "\u001b[0;31mNameError\u001b[0m: name 'math' is not defined"
          ]
        }
      ]
    },
    {
      "cell_type": "markdown",
      "source": [
        "##First Challenge"
      ],
      "metadata": {
        "id": "wNjzJMEtr3sL"
      }
    },
    {
      "cell_type": "code",
      "source": [
        "from IPython.display import display,Math\n",
        "def calculation():\n",
        "  i = int(input('Which is your choice, 1 or 2? '))\n",
        "  if i!=1 and i!=2:\n",
        "    display('Invalid choice!')\n",
        "  else:\n",
        "    x = int(input('Input X: '))\n",
        "    y = int(input('Input Y '))\n",
        "  \n",
        "    if i==1:\n",
        "      display(Math('%g^{%g} = %g' %(x, y, x**y)))\n",
        "    else:\n",
        "      display(Math('\\\\frac{%g}{%g} = %g' %(x, y, x/y)))\n",
        "  \n",
        "    \n"
      ],
      "metadata": {
        "id": "cQ-4c1ugrhz-"
      },
      "execution_count": null,
      "outputs": []
    },
    {
      "cell_type": "code",
      "source": [
        "calculation()"
      ],
      "metadata": {
        "colab": {
          "base_uri": "https://localhost:8080/",
          "height": 89
        },
        "id": "EskUL4qMr3Z2",
        "outputId": "d337f1b5-cdb9-4261-edc0-1793a763535c"
      },
      "execution_count": null,
      "outputs": [
        {
          "name": "stdout",
          "output_type": "stream",
          "text": [
            "What is your choice, 1 or 2? 1\n",
            "input X: 1\n",
            "input Y 1\n"
          ]
        },
        {
          "output_type": "display_data",
          "data": {
            "text/plain": [
              "<IPython.core.display.Math object>"
            ],
            "text/latex": "$\\displaystyle 1^{1} = 1$"
          },
          "metadata": {}
        }
      ]
    },
    {
      "cell_type": "markdown",
      "source": [
        "##Random"
      ],
      "metadata": {
        "id": "kzijnV_-fTbb"
      }
    },
    {
      "cell_type": "code",
      "source": [
        "from numpy import random\n",
        "\n",
        "#The function definition\n",
        "def guessTheNumber():\n",
        "\n",
        "  num2guess = random.randint(1,101)\n",
        "\n",
        "  #ask the user for a number\n",
        "  userguess = int(input('Guess a number from 1 to 100: '))\n",
        "\n",
        "  #checking the number is a match\n",
        "  while userguess!=num2guess:\n",
        "\n",
        "    #printi informative message and ask for another guess\n",
        "    if userguess<num2guess:\n",
        "      print('Guess higher!')\n",
        "    elif userguess>num2guess:\n",
        "      print('Guess lower!')\n",
        "\n",
        "    userguess = int(input('Guess again: '))\n",
        "\n",
        "  #if the number is correct!\n",
        "  print('YES!! You guessed correctly!!')\n",
        "\n"
      ],
      "metadata": {
        "id": "iLLzfr3ifTHO"
      },
      "execution_count": null,
      "outputs": []
    },
    {
      "cell_type": "code",
      "source": [
        "guessTheNumber()"
      ],
      "metadata": {
        "colab": {
          "base_uri": "https://localhost:8080/"
        },
        "id": "QGszSJCahIqb",
        "outputId": "1cd6ddca-6023-45ab-d1b5-cf116baacee2"
      },
      "execution_count": null,
      "outputs": [
        {
          "output_type": "stream",
          "name": "stdout",
          "text": [
            "Guess a number from 1 to 100: 4\n",
            "Guess higher!\n",
            "Guess again: 80\n",
            "Guess lower!\n",
            "Guess again: 40\n",
            "Guess lower!\n",
            "Guess again: 20\n",
            "Guess lower!\n",
            "Guess again: 15\n",
            "Guess lower!\n",
            "Guess again: 10\n",
            "Guess higher!\n",
            "Guess again: 13\n",
            "Guess higher!\n",
            "Guess again: 14\n",
            "YES!! You guessed correctly!!\n"
          ]
        }
      ]
    },
    {
      "cell_type": "markdown",
      "source": [
        "##Sympy"
      ],
      "metadata": {
        "id": "wkNW1fUTqayP"
      }
    },
    {
      "cell_type": "code",
      "source": [
        "import sympy as sym\n",
        "x,y = sym.symbols('x,y')\n",
        "import numpy as np\n",
        "sym.init_printing()\n",
        "from IPython.display import display\n",
        "\n",
        "display(np.sqrt(2))\n",
        "display(sym.sqrt(2))\n"
      ],
      "metadata": {
        "colab": {
          "base_uri": "https://localhost:8080/",
          "height": 59
        },
        "id": "Q3byYM4AqdZC",
        "outputId": "09b11a64-1fdb-4179-934b-a03289fc8e6f"
      },
      "execution_count": null,
      "outputs": [
        {
          "output_type": "display_data",
          "data": {
            "text/plain": [
              "1.4142135623730951"
            ],
            "text/latex": "$\\displaystyle 1.4142135623731$"
          },
          "metadata": {}
        },
        {
          "output_type": "display_data",
          "data": {
            "text/plain": [
              "√2"
            ],
            "text/latex": "$\\displaystyle \\sqrt{2}$"
          },
          "metadata": {}
        }
      ]
    },
    {
      "cell_type": "markdown",
      "source": [
        "#Latex"
      ],
      "metadata": {
        "id": "klRrRqVUuTIu"
      }
    },
    {
      "cell_type": "code",
      "source": [
        "from IPython.display import Math,display\n",
        "\n",
        "display(Math('\\\\sigma = \\\\mu \\\\times \\\\sqrt{5}'))\n",
        "\n",
        "display(Math('\\\\text{Esta parte é texto então é preciso formatar o código assim para não misturar o texto com a equação abaixo: }\\\\newline {10}\\\\frac{1+8}{2\\\\mu^{t\\\\times4}}'))\n"
      ],
      "metadata": {
        "colab": {
          "base_uri": "https://localhost:8080/",
          "height": 97
        },
        "id": "blL_DYVgsQn8",
        "outputId": "26203f36-273b-4faa-dc1d-e381293242ce"
      },
      "execution_count": 5,
      "outputs": [
        {
          "output_type": "display_data",
          "data": {
            "text/plain": [
              "<IPython.core.display.Math object>"
            ],
            "text/latex": "$\\displaystyle \\sigma = \\mu \\times \\sqrt{5}$"
          },
          "metadata": {}
        },
        {
          "output_type": "display_data",
          "data": {
            "text/plain": [
              "<IPython.core.display.Math object>"
            ],
            "text/latex": "$\\displaystyle \\text{Esta parte é texto então é preciso formatar o código assim para não misturar o texto com a equação abaixo: }\\newline {10}\\frac{1+8}{2\\mu^{t\\times4}}$"
          },
          "metadata": {}
        }
      ]
    },
    {
      "cell_type": "markdown",
      "source": [],
      "metadata": {
        "id": "jvatH4A2hXym"
      }
    }
  ]
}